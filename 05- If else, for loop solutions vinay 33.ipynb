{
 "cells": [
  {
   "cell_type": "markdown",
   "metadata": {},
   "source": [
    "# IF , ELSE.... FOR LOOP"
   ]
  },
  {
   "cell_type": "markdown",
   "metadata": {},
   "source": [
    "> print this is hour in current minute is odd"
   ]
  },
  {
   "cell_type": "code",
   "execution_count": 1,
   "metadata": {},
   "outputs": [
    {
     "name": "stdout",
     "output_type": "stream",
     "text": [
      "enter the time in minutes : 52\n",
      "This is Even minute\n"
     ]
    }
   ],
   "source": [
    "x=int(input('enter the time in minutes : '))\n",
    "if  x%2==0:\n",
    "    print('This is Even minute')\n",
    "else:\n",
    "    print('This is Odd minute')"
   ]
  },
  {
   "cell_type": "code",
   "execution_count": 11,
   "metadata": {},
   "outputs": [
    {
     "name": "stdout",
     "output_type": "stream",
     "text": [
      "minute : 53\n",
      "This is Odd minute\n"
     ]
    }
   ],
   "source": []
  },
  {
   "cell_type": "markdown",
   "metadata": {},
   "source": [
    "> if today is satarday then print 'Party !!!' or if sunday print take rest other wise print work , work, work"
   ]
  },
  {
   "cell_type": "code",
   "execution_count": 5,
   "metadata": {},
   "outputs": [
    {
     "name": "stdout",
     "output_type": "stream",
     "text": [
      "Today is : saturday\n",
      "Party !!!\n"
     ]
    }
   ],
   "source": [
    "x=input('Today is : ')\n",
    "if x=='sunday':\n",
    "    print('Take Rest.')\n",
    "elif x=='saturday':\n",
    "    print('Party !!!')\n",
    "else:\n",
    "    print('work , work, work')\n",
    "    \n",
    "    "
   ]
  },
  {
   "cell_type": "markdown",
   "metadata": {},
   "source": [
    "> Write a program which will find all such numbers which are divisible by 7 but are not a multiple of 5, between 2000 and 3200 (both included). The numbers obtained should be printed in a comma-separated sequence on a single line."
   ]
  },
  {
   "cell_type": "code",
   "execution_count": 11,
   "metadata": {},
   "outputs": [
    {
     "name": "stdout",
     "output_type": "stream",
     "text": [
      "2002,2009,2016,2023,2037,2044,2051,2058,2072,2079,2086,2093,2107,2114,2121,2128,2142,2149,2156,2163,2177,2184,2191,2198,2212,2219,2226,2233,2247,2254,2261,2268,2282,2289,2296,2303,2317,2324,2331,2338,2352,2359,2366,2373,2387,2394,2401,2408,2422,2429,2436,2443,2457,2464,2471,2478,2492,2499,2506,2513,2527,2534,2541,2548,2562,2569,2576,2583,2597,2604,2611,2618,2632,2639,2646,2653,2667,2674,2681,2688,2702,2709,2716,2723,2737,2744,2751,2758,2772,2779,2786,2793,2807,2814,2821,2828,2842,2849,2856,2863,2877,2884,2891,2898,2912,2919,2926,2933,2947,2954,2961,2968,2982,2989,2996,3003,3017,3024,3031,3038,3052,3059,3066,3073,3087,3094,3101,3108,3122,3129,3136,3143,3157,3164,3171,3178,3192,3199,"
     ]
    }
   ],
   "source": [
    "for i in range(2000,3201):\n",
    "    if i%7==0 and i%5!=0:\n",
    "        print(i,end = \",\")"
   ]
  },
  {
   "cell_type": "code",
   "execution_count": 14,
   "metadata": {},
   "outputs": [
    {
     "name": "stdout",
     "output_type": "stream",
     "text": [
      "2002,2009,2016,2023,2037,2044,2051,2058,2072,2079,2086,2093,2107,2114,2121,2128,2142,2149,2156,2163,2177,2184,2191,2198,2212,2219,2226,2233,2247,2254,2261,2268,2282,2289,2296,2303,2317,2324,2331,2338,2352,2359,2366,2373,2387,2394,2401,2408,2422,2429,2436,2443,2457,2464,2471,2478,2492,2499,2506,2513,2527,2534,2541,2548,2562,2569,2576,2583,2597,2604,2611,2618,2632,2639,2646,2653,2667,2674,2681,2688,2702,2709,2716,2723,2737,2744,2751,2758,2772,2779,2786,2793,2807,2814,2821,2828,2842,2849,2856,2863,2877,2884,2891,2898,2912,2919,2926,2933,2947,2954,2961,2968,2982,2989,2996,3003,3017,3024,3031,3038,3052,3059,3066,3073,3087,3094,3101,3108,3122,3129,3136,3143,3157,3164,3171,3178,3192,3199\n"
     ]
    }
   ],
   "source": [
    "#CODE HERE"
   ]
  },
  {
   "cell_type": "markdown",
   "metadata": {},
   "source": [
    "> Write a program which can compute the factorial of a given numbers.\n",
    "The results should be printed in a comma-separated sequence on a single line.\n",
    "Suppose the following input is supplied to the program:\n",
    "8\n",
    "Then, the output should be:\n",
    "40320"
   ]
  },
  {
   "cell_type": "code",
   "execution_count": 2,
   "metadata": {},
   "outputs": [
    {
     "name": "stdout",
     "output_type": "stream",
     "text": [
      "enter the number : 5\n",
      "factorial =  120\n"
     ]
    }
   ],
   "source": [
    "i=int(input('enter the number : '))\n",
    "fact=1\n",
    "while i>0:\n",
    "    fact=fact*i\n",
    "    i=i-1\n",
    "print('factorial = ',fact)"
   ]
  },
  {
   "cell_type": "code",
   "execution_count": 19,
   "metadata": {},
   "outputs": [
    {
     "name": "stdout",
     "output_type": "stream",
     "text": [
      "enter the value : 8\n",
      "40320\n"
     ]
    }
   ],
   "source": [
    "import math\n",
    "x=int(input('enter the value : '))\n",
    "if x>0:\n",
    "    print(math.factorial(x))"
   ]
  },
  {
   "cell_type": "markdown",
   "metadata": {},
   "source": [
    "> With a given integral number n, write a program to generate a dictionary that contains (i, i*i) such that is an integral number between 1 and n (both included). and then the program should print the dictionary.\n",
    "Suppose the following input is supplied to the program:\n",
    "8\n",
    "Then, the output should be:\n",
    "{1: 1, 2: 4, 3: 9, 4: 16, 5: 25, 6: 36, 7: 49, 8: 64}\n",
    "\n",
    "*Hint* : use dict()"
   ]
  },
  {
   "cell_type": "code",
   "execution_count": 16,
   "metadata": {},
   "outputs": [
    {
     "name": "stdout",
     "output_type": "stream",
     "text": [
      "enter the number :13\n",
      "{1: 1, 2: 4, 3: 9, 4: 16, 5: 25, 6: 36, 7: 49, 8: 64, 9: 81, 10: 100, 11: 121, 12: 144, 13: 169}\n"
     ]
    }
   ],
   "source": [
    "x=int(input('enter the number :'))\n",
    "i=1\n",
    "l={}\n",
    "while i<=x:\n",
    "    l.update({i:i**2})\n",
    "    i+=1\n",
    "print(l)"
   ]
  },
  {
   "cell_type": "markdown",
   "metadata": {},
   "source": [
    "> create user defined fuction for \n",
    "- addition \"add\"\n",
    "- subtraction \"sub\"\n",
    "- multiplication \"mul\"\n",
    "- division \"div\"\n",
    "- power \"pow\""
   ]
  },
  {
   "cell_type": "code",
   "execution_count": 4,
   "metadata": {},
   "outputs": [
    {
     "name": "stdout",
     "output_type": "stream",
     "text": [
      "Please enter the value : 2\n",
      "Please enter the value : 3\n",
      "Please enter the condition : mul\n",
      "sub of 2 and 3 is 6\n"
     ]
    }
   ],
   "source": [
    "x=int(input('Please enter the value : '))\n",
    "y=int(input('Please enter the value : '))\n",
    "keyword=input('Please enter the condition : ')\n",
    "if keyword=='add':\n",
    "    a=x+y\n",
    "    print('sum of {} and {} is {}'.format(x,y,a))\n",
    "elif keyword=='sub':\n",
    "    a=x-y\n",
    "    print('sub of {} and {} is {}'.format(x,y,a))\n",
    "elif keyword=='mul':\n",
    "    a=x*y\n",
    "    print('sub of {} and {} is {}'.format(x,y,a))\n",
    "elif keyword=='div':\n",
    "    a=x/y\n",
    "    print('sub of {} and {} is {}'.format(x,y,a))\n",
    "else:\n",
    "    a=x**y\n",
    "    print('sub of {} and {} is {}'.format(x,y,a))\n"
   ]
  },
  {
   "cell_type": "markdown",
   "metadata": {},
   "source": [
    "### Write a Python program that accepts a string and calculate the number of digits and letters.\n",
    "- Input\n",
    "\n",
    "    - Hello321Bye360\n",
    "- Output\n",
    "\n",
    "    - Digit - 6\n",
    "\n",
    "    - Letter - 8"
   ]
  },
  {
   "cell_type": "code",
   "execution_count": 40,
   "metadata": {},
   "outputs": [
    {
     "name": "stdout",
     "output_type": "stream",
     "text": [
      "enter the string : fgh45\n",
      "alphabets  3, and digit are 2\n"
     ]
    }
   ],
   "source": [
    "x=input('enter the string : ')\n",
    "c=0\n",
    "v=0\n",
    "for i in range(len(x)):\n",
    "    if x[i].isalpha():\n",
    "        c=c+1\n",
    "    else:\n",
    "        v=v+1\n",
    "print('alphabets  {}, and digit are {}'.format(c,v))"
   ]
  },
  {
   "cell_type": "markdown",
   "metadata": {},
   "source": [
    "### With a given tuple (1,2,3,4,5,6,7,8,9,10), write a program to print the first half values in one line and the last half values in one line."
   ]
  },
  {
   "cell_type": "code",
   "execution_count": 2,
   "metadata": {},
   "outputs": [
    {
     "name": "stdout",
     "output_type": "stream",
     "text": [
      "1 2 3 4 5 \n",
      "\n",
      "6 7 8 9 10 "
     ]
    }
   ],
   "source": [
    "x=(1,2,3,4,5,6,7,8,9,10)\n",
    "i=1\n",
    "v=len(x)\n",
    "l=int(v/2)\n",
    "while i<=len(x):\n",
    "    if i<=l:\n",
    "        print(i,end=\" \")\n",
    "    else:\n",
    "        if i==6:\n",
    "            print('\\n')\n",
    "        print(i,end=\" \")\n",
    "    i=i+1\n"
   ]
  },
  {
   "cell_type": "code",
   "execution_count": 1,
   "metadata": {},
   "outputs": [
    {
     "name": "stdout",
     "output_type": "stream",
     "text": [
      "1 2 3 4 5 \n",
      "6 7 8 9 10 "
     ]
    }
   ],
   "source": []
  },
  {
   "cell_type": "code",
   "execution_count": null,
   "metadata": {},
   "outputs": [],
   "source": []
  },
  {
   "cell_type": "code",
   "execution_count": 29,
   "metadata": {
    "scrolled": true
   },
   "outputs": [
    {
     "name": "stdout",
     "output_type": "stream",
     "text": [
      "(1, 2, 3, 4, 5) (6, 7, 8, 9, 10)\n"
     ]
    }
   ],
   "source": [
    "x=(1,2,3,4,5,6,7,8,9,10)\n",
    "b=list(x)\n",
    "i=0\n",
    "v=len(b)\n",
    "l=int(v/2)\n",
    "a=[]\n",
    "d=[]\n",
    "while i<=len(b):\n",
    "    if i<l:\n",
    "        a.append(b[i])\n",
    "    elif i<len(b):\n",
    "        d.append(b[i])\n",
    "    i=i+1\n",
    "print(tuple(a),tuple(d))"
   ]
  },
  {
   "cell_type": "code",
   "execution_count": 31,
   "metadata": {},
   "outputs": [
    {
     "name": "stdout",
     "output_type": "stream",
     "text": [
      "[1, 2, 3, 4, 5]\n",
      "[6, 7, 8, 9, 10]\n"
     ]
    }
   ],
   "source": [
    "x=(1,2,3,4,5,6,7,8,9,10)\n",
    "b=list(x)\n",
    "i=0\n",
    "v=len(b)\n",
    "l=int(v/2)\n",
    "a=[]\n",
    "d=[]\n",
    "while i<=len(b):\n",
    "    if i<l:\n",
    "        a.append(b[i])\n",
    "    elif i<len(b):\n",
    "        d.append(b[i])\n",
    "    i=i+1\n",
    "print(a)\n",
    "print(d)"
   ]
  },
  {
   "cell_type": "markdown",
   "metadata": {},
   "source": [
    "### Write a program to generate and print another tuple whose values are even numbers in the given tuple (1,2,3,4,5,6,7,8,9,10)"
   ]
  },
  {
   "cell_type": "code",
   "execution_count": 38,
   "metadata": {},
   "outputs": [
    {
     "name": "stdout",
     "output_type": "stream",
     "text": [
      "(2, 4, 6, 8, 10)\n"
     ]
    }
   ],
   "source": [
    "x=(1,2,3,4,5,6,7,8,9,10)\n",
    "l=[]\n",
    "for i in range(len(x)):\n",
    "    if i%2!=0:\n",
    "        l.append(x[i])\n",
    "print(tuple(l))"
   ]
  },
  {
   "cell_type": "markdown",
   "metadata": {},
   "source": [
    "### Write a program which accepts a string as input to print \"Yes\" if the string is \"yes\" or \"YES\" or \"Yes\", otherwise print \"No\""
   ]
  },
  {
   "cell_type": "code",
   "execution_count": 41,
   "metadata": {},
   "outputs": [
    {
     "name": "stdout",
     "output_type": "stream",
     "text": [
      "Please type something. --> YES\n",
      "Yes\n"
     ]
    }
   ],
   "source": [
    "text = input(\"Please type something. --> \")\n",
    "if text=='yes' or 'Yes' or 'YES':\n",
    "    print('Yes')\n",
    "else:\n",
    "    print('No')"
   ]
  },
  {
   "cell_type": "markdown",
   "metadata": {},
   "source": [
    "### Please write a program to generate a list with 5 random numbers between 100 and 200 inclusive."
   ]
  },
  {
   "cell_type": "code",
   "execution_count": 8,
   "metadata": {},
   "outputs": [
    {
     "data": {
      "text/plain": [
       "[151, 148, 118, 190, 114]"
      ]
     },
     "execution_count": 8,
     "metadata": {},
     "output_type": "execute_result"
    }
   ],
   "source": [
    "import random\n",
    "\n",
    "List1=[]\n",
    "I=0\n",
    "while I<5: \n",
    "     a=random.randint(100,200)\n",
    "     List1.append(a)\n",
    "     I+=1\n",
    "List1"
   ]
  },
  {
   "cell_type": "markdown",
   "metadata": {},
   "source": [
    "### Please generate a random float where the value is between 5 and 95 using Python module."
   ]
  },
  {
   "cell_type": "code",
   "execution_count": 1,
   "metadata": {},
   "outputs": [
    {
     "data": {
      "text/plain": [
       "43.46662137961256"
      ]
     },
     "execution_count": 1,
     "metadata": {},
     "output_type": "execute_result"
    }
   ],
   "source": [
    "import random as rd\n",
    "rd.uniform(5,95)"
   ]
  },
  {
   "cell_type": "code",
   "execution_count": 2,
   "metadata": {},
   "outputs": [
    {
     "name": "stdout",
     "output_type": "stream",
     "text": [
      "50.407397170147895\n"
     ]
    }
   ],
   "source": []
  },
  {
   "cell_type": "markdown",
   "metadata": {},
   "source": [
    "### [1,1,1,1,3,3,4,4,4,5,6,7,8,8,8]\n",
    "#### 1. from the above list print the uniques values\n",
    "#### 2. count how many times each number exist\n",
    "#### 3. Print the number which is occured more number of times"
   ]
  },
  {
   "cell_type": "code",
   "execution_count": 42,
   "metadata": {},
   "outputs": [
    {
     "name": "stdout",
     "output_type": "stream",
     "text": [
      "{1, 3, 4, 5, 6, 7, 8}\n"
     ]
    }
   ],
   "source": [
    "x=[1,1,1,1,3,3,4,4,4,5,6,7,8,8,8]\n",
    "print(set(x))"
   ]
  },
  {
   "cell_type": "code",
   "execution_count": 4,
   "metadata": {},
   "outputs": [
    {
     "name": "stdout",
     "output_type": "stream",
     "text": [
      "1 occered 4 times ,3 occered 2 times,4 occered 3 times,5 occered 1 times,6 occered1 times ,7 occered 1 times,8 occered 3 times in given list\n"
     ]
    }
   ],
   "source": [
    "x=[1,1,1,1,3,3,4,4,4,5,6,7,8,8,8]\n",
    "i=0\n",
    "c=0\n",
    "t=0\n",
    "f=0\n",
    "fi=0\n",
    "s=0\n",
    "sev=0\n",
    "e=0\n",
    "while i<len(x):\n",
    "    if x[i]==1:\n",
    "        c=c+1\n",
    "    elif x[i]==3:\n",
    "        t=t+1\n",
    "    elif x[i]==4:\n",
    "        f=f+1\n",
    "    elif x[i]==5:\n",
    "        fi=fi+1\n",
    "    elif x[i]==6:\n",
    "        s=s+1\n",
    "    elif x[i]==7:\n",
    "        sev=sev+1\n",
    "    elif x[i]==8:\n",
    "        e=e+1\n",
    "    i=i+1\n",
    "print('1 occered {} times ,3 occered {} times,4 occered {} times,5 occered {} times,6 occered{} times ,7 occered {} times,8 occered {} times in given list'.format(c,t,f,fi,s,sev,e))\n"
   ]
  },
  {
   "cell_type": "code",
   "execution_count": null,
   "metadata": {},
   "outputs": [],
   "source": []
  },
  {
   "cell_type": "markdown",
   "metadata": {},
   "source": [
    "# [Innomatics Research Labs](https:/innomatics.in/)\n",
    "[www.innomatics.in](https:/innomatics.in/)"
   ]
  },
  {
   "cell_type": "code",
   "execution_count": 8,
   "metadata": {},
   "outputs": [
    {
     "name": "stdout",
     "output_type": "stream",
     "text": [
      "1\n"
     ]
    }
   ],
   "source": [
    "x=[1,1,1,1,3,3,4,4,4,5,6,7,8,8,8]\n",
    "i=0\n",
    "c=0\n",
    "t=0\n",
    "f=0\n",
    "fi=0\n",
    "s=0\n",
    "sev=0\n",
    "e=0\n",
    "while i<len(x):\n",
    "    if x[i]==1:\n",
    "        c=c+1\n",
    "    elif x[i]==3:\n",
    "        t=t+1\n",
    "    elif x[i]==4:\n",
    "        f=f+1\n",
    "    elif x[i]==5:\n",
    "        fi=fi+1\n",
    "    elif x[i]==6:\n",
    "        s=s+1\n",
    "    elif x[i]==7:\n",
    "        sev=sev+1\n",
    "    elif x[i]==8:\n",
    "        e=e+1\n",
    "    i=i+1\n",
    "if c>t and c>f and c>fi and c>s and c>sev and c>e:\n",
    "    print(1)\n"
   ]
  },
  {
   "cell_type": "code",
   "execution_count": null,
   "metadata": {},
   "outputs": [],
   "source": []
  }
 ],
 "metadata": {
  "kernelspec": {
   "display_name": "Python 3 (ipykernel)",
   "language": "python",
   "name": "python3"
  },
  "language_info": {
   "codemirror_mode": {
    "name": "ipython",
    "version": 3
   },
   "file_extension": ".py",
   "mimetype": "text/x-python",
   "name": "python",
   "nbconvert_exporter": "python",
   "pygments_lexer": "ipython3",
   "version": "3.9.12"
  }
 },
 "nbformat": 4,
 "nbformat_minor": 2
}
